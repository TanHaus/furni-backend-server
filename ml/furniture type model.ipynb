{
 "cells": [
  {
   "cell_type": "code",
   "execution_count": 27,
   "metadata": {},
   "outputs": [],
   "source": [
    "import os\n",
    "import shutil\n",
    "import pathlib\n",
    "import functools \n",
    "import re\n",
    "from spellchecker import SpellChecker\n",
    "import csv\n",
    "\n",
    "import pandas as pd\n",
    "import numpy as np\n",
    "from PIL import Image\n",
    "import datetime\n",
    "import matplotlib.pyplot as plt\n",
    "import seaborn as sns\n",
    "\n",
    "import tensorflow as tf\n",
    "import tensorflow_addons as tfa\n",
    "import tensorflow_hub as hub\n",
    "import tensorflow_probability as tfp\n",
    "from sklearn.model_selection import train_test_split"
   ]
  },
  {
   "cell_type": "code",
   "execution_count": 28,
   "metadata": {},
   "outputs": [],
   "source": [
    "batch_size = 32\n",
    "epochs = 5\n",
    "\n",
    "CLASS_COUNT = 5\n",
    "\n",
    "IMG_HEIGHT = 224\n",
    "IMG_WIDTH = 224\n",
    "\n",
    "AUTOTUNE = tf.data.experimental.AUTOTUNE"
   ]
  },
  {
   "cell_type": "markdown",
   "metadata": {},
   "source": [
    "# Import data"
   ]
  },
  {
   "cell_type": "code",
   "execution_count": 29,
   "metadata": {},
   "outputs": [
    {
     "data": {
      "text/html": [
       "<div>\n",
       "<style scoped>\n",
       "    .dataframe tbody tr th:only-of-type {\n",
       "        vertical-align: middle;\n",
       "    }\n",
       "\n",
       "    .dataframe tbody tr th {\n",
       "        vertical-align: top;\n",
       "    }\n",
       "\n",
       "    .dataframe thead th {\n",
       "        text-align: right;\n",
       "    }\n",
       "</style>\n",
       "<table border=\"1\" class=\"dataframe\">\n",
       "  <thead>\n",
       "    <tr style=\"text-align: right;\">\n",
       "      <th></th>\n",
       "      <th>path</th>\n",
       "      <th>label</th>\n",
       "    </tr>\n",
       "  </thead>\n",
       "  <tbody>\n",
       "    <tr>\n",
       "      <th>0</th>\n",
       "      <td>./Bonn_Furniture_Styles_Dataset/houzz/beds/Ecl...</td>\n",
       "      <td>beds</td>\n",
       "    </tr>\n",
       "    <tr>\n",
       "      <th>1</th>\n",
       "      <td>./Bonn_Furniture_Styles_Dataset/houzz/beds/Ecl...</td>\n",
       "      <td>beds</td>\n",
       "    </tr>\n",
       "    <tr>\n",
       "      <th>2</th>\n",
       "      <td>./Bonn_Furniture_Styles_Dataset/houzz/beds/Ecl...</td>\n",
       "      <td>beds</td>\n",
       "    </tr>\n",
       "    <tr>\n",
       "      <th>3</th>\n",
       "      <td>./Bonn_Furniture_Styles_Dataset/houzz/beds/Ecl...</td>\n",
       "      <td>beds</td>\n",
       "    </tr>\n",
       "    <tr>\n",
       "      <th>4</th>\n",
       "      <td>./Bonn_Furniture_Styles_Dataset/houzz/beds/Ecl...</td>\n",
       "      <td>beds</td>\n",
       "    </tr>\n",
       "    <tr>\n",
       "      <th>...</th>\n",
       "      <td>...</td>\n",
       "      <td>...</td>\n",
       "    </tr>\n",
       "    <tr>\n",
       "      <th>57677</th>\n",
       "      <td>./Bonn_Furniture_Styles_Dataset/houzz/tables/T...</td>\n",
       "      <td>tables</td>\n",
       "    </tr>\n",
       "    <tr>\n",
       "      <th>57678</th>\n",
       "      <td>./Bonn_Furniture_Styles_Dataset/houzz/tables/T...</td>\n",
       "      <td>tables</td>\n",
       "    </tr>\n",
       "    <tr>\n",
       "      <th>57679</th>\n",
       "      <td>./Bonn_Furniture_Styles_Dataset/houzz/tables/T...</td>\n",
       "      <td>tables</td>\n",
       "    </tr>\n",
       "    <tr>\n",
       "      <th>57680</th>\n",
       "      <td>./Bonn_Furniture_Styles_Dataset/houzz/tables/T...</td>\n",
       "      <td>tables</td>\n",
       "    </tr>\n",
       "    <tr>\n",
       "      <th>57681</th>\n",
       "      <td>./Bonn_Furniture_Styles_Dataset/houzz/tables/T...</td>\n",
       "      <td>tables</td>\n",
       "    </tr>\n",
       "  </tbody>\n",
       "</table>\n",
       "<p>57682 rows × 2 columns</p>\n",
       "</div>"
      ],
      "text/plain": [
       "                                                    path   label\n",
       "0      ./Bonn_Furniture_Styles_Dataset/houzz/beds/Ecl...    beds\n",
       "1      ./Bonn_Furniture_Styles_Dataset/houzz/beds/Ecl...    beds\n",
       "2      ./Bonn_Furniture_Styles_Dataset/houzz/beds/Ecl...    beds\n",
       "3      ./Bonn_Furniture_Styles_Dataset/houzz/beds/Ecl...    beds\n",
       "4      ./Bonn_Furniture_Styles_Dataset/houzz/beds/Ecl...    beds\n",
       "...                                                  ...     ...\n",
       "57677  ./Bonn_Furniture_Styles_Dataset/houzz/tables/T...  tables\n",
       "57678  ./Bonn_Furniture_Styles_Dataset/houzz/tables/T...  tables\n",
       "57679  ./Bonn_Furniture_Styles_Dataset/houzz/tables/T...  tables\n",
       "57680  ./Bonn_Furniture_Styles_Dataset/houzz/tables/T...  tables\n",
       "57681  ./Bonn_Furniture_Styles_Dataset/houzz/tables/T...  tables\n",
       "\n",
       "[57682 rows x 2 columns]"
      ]
     },
     "execution_count": 29,
     "metadata": {},
     "output_type": "execute_result"
    }
   ],
   "source": [
    "def load_metadata(furniture_type):\n",
    "    df = pd.read_csv('./Bonn_Furniture_Styles_Dataset/metadata/{}.txt'.format(furniture_type), sep=\"\\t\", names=['style', 'path', 'nan', 'metadata', 'label'])\n",
    "    df.drop(columns=['style','nan','metadata'], inplace=True)\n",
    "    df.path = df.path.map(lambda x: './Bonn_Furniture_Styles_Dataset/' + x)\n",
    "    df.label = furniture_type\n",
    "    return df\n",
    "df = functools.reduce(lambda df1, df2: df1.append(df2), list(map(load_metadata, ['beds', 'chairs', 'dressers', 'sofas', 'tables'])))\n",
    "df.reset_index(inplace=True, drop=True)\n",
    "df"
   ]
  },
  {
   "cell_type": "markdown",
   "metadata": {},
   "source": [
    "# Create onehot label"
   ]
  },
  {
   "cell_type": "code",
   "execution_count": 30,
   "metadata": {},
   "outputs": [
    {
     "data": {
      "text/plain": [
       "array(['beds', 'chairs', 'dressers', 'sofas', 'tables'], dtype=object)"
      ]
     },
     "execution_count": 30,
     "metadata": {},
     "output_type": "execute_result"
    }
   ],
   "source": [
    "labels = df.label.unique()\n",
    "labels"
   ]
  },
  {
   "cell_type": "code",
   "execution_count": 31,
   "metadata": {},
   "outputs": [
    {
     "data": {
      "text/plain": [
       "0        [True, False, False, False, False]\n",
       "1        [True, False, False, False, False]\n",
       "2        [True, False, False, False, False]\n",
       "3        [True, False, False, False, False]\n",
       "4        [True, False, False, False, False]\n",
       "                        ...                \n",
       "57677    [False, False, False, False, True]\n",
       "57678    [False, False, False, False, True]\n",
       "57679    [False, False, False, False, True]\n",
       "57680    [False, False, False, False, True]\n",
       "57681    [False, False, False, False, True]\n",
       "Name: label_onehot, Length: 57682, dtype: object"
      ]
     },
     "execution_count": 31,
     "metadata": {},
     "output_type": "execute_result"
    }
   ],
   "source": [
    "df['label_onehot'] = df.label.apply(lambda x: (labels == x))\n",
    "df.label_onehot"
   ]
  },
  {
   "cell_type": "markdown",
   "metadata": {},
   "source": [
    "# Split train/test and balance class size for train set"
   ]
  },
  {
   "cell_type": "code",
   "execution_count": 32,
   "metadata": {},
   "outputs": [
    {
     "data": {
      "text/html": [
       "<div>\n",
       "<style scoped>\n",
       "    .dataframe tbody tr th:only-of-type {\n",
       "        vertical-align: middle;\n",
       "    }\n",
       "\n",
       "    .dataframe tbody tr th {\n",
       "        vertical-align: top;\n",
       "    }\n",
       "\n",
       "    .dataframe thead th {\n",
       "        text-align: right;\n",
       "    }\n",
       "</style>\n",
       "<table border=\"1\" class=\"dataframe\">\n",
       "  <thead>\n",
       "    <tr style=\"text-align: right;\">\n",
       "      <th></th>\n",
       "      <th>path</th>\n",
       "      <th>label_onehot</th>\n",
       "    </tr>\n",
       "    <tr>\n",
       "      <th>label</th>\n",
       "      <th></th>\n",
       "      <th></th>\n",
       "    </tr>\n",
       "  </thead>\n",
       "  <tbody>\n",
       "    <tr>\n",
       "      <th>beds</th>\n",
       "      <td>6578</td>\n",
       "      <td>6578</td>\n",
       "    </tr>\n",
       "    <tr>\n",
       "      <th>chairs</th>\n",
       "      <td>22053</td>\n",
       "      <td>22053</td>\n",
       "    </tr>\n",
       "    <tr>\n",
       "      <th>dressers</th>\n",
       "      <td>7871</td>\n",
       "      <td>7871</td>\n",
       "    </tr>\n",
       "    <tr>\n",
       "      <th>sofas</th>\n",
       "      <td>4080</td>\n",
       "      <td>4080</td>\n",
       "    </tr>\n",
       "    <tr>\n",
       "      <th>tables</th>\n",
       "      <td>17100</td>\n",
       "      <td>17100</td>\n",
       "    </tr>\n",
       "  </tbody>\n",
       "</table>\n",
       "</div>"
      ],
      "text/plain": [
       "           path  label_onehot\n",
       "label                        \n",
       "beds       6578          6578\n",
       "chairs    22053         22053\n",
       "dressers   7871          7871\n",
       "sofas      4080          4080\n",
       "tables    17100         17100"
      ]
     },
     "execution_count": 32,
     "metadata": {},
     "output_type": "execute_result"
    }
   ],
   "source": [
    "df.groupby(['label']).count()"
   ]
  },
  {
   "cell_type": "code",
   "execution_count": 33,
   "metadata": {},
   "outputs": [],
   "source": [
    "TEST_CLASS_SIZE = 2000\n",
    "TRAIN_CLASS_SIZE = 8000"
   ]
  },
  {
   "cell_type": "code",
   "execution_count": 34,
   "metadata": {},
   "outputs": [
    {
     "data": {
      "text/html": [
       "<div>\n",
       "<style scoped>\n",
       "    .dataframe tbody tr th:only-of-type {\n",
       "        vertical-align: middle;\n",
       "    }\n",
       "\n",
       "    .dataframe tbody tr th {\n",
       "        vertical-align: top;\n",
       "    }\n",
       "\n",
       "    .dataframe thead th {\n",
       "        text-align: right;\n",
       "    }\n",
       "</style>\n",
       "<table border=\"1\" class=\"dataframe\">\n",
       "  <thead>\n",
       "    <tr style=\"text-align: right;\">\n",
       "      <th></th>\n",
       "      <th>path</th>\n",
       "      <th>label_onehot</th>\n",
       "    </tr>\n",
       "    <tr>\n",
       "      <th>label</th>\n",
       "      <th></th>\n",
       "      <th></th>\n",
       "    </tr>\n",
       "  </thead>\n",
       "  <tbody>\n",
       "    <tr>\n",
       "      <th>beds</th>\n",
       "      <td>2000</td>\n",
       "      <td>2000</td>\n",
       "    </tr>\n",
       "    <tr>\n",
       "      <th>chairs</th>\n",
       "      <td>2000</td>\n",
       "      <td>2000</td>\n",
       "    </tr>\n",
       "    <tr>\n",
       "      <th>dressers</th>\n",
       "      <td>2000</td>\n",
       "      <td>2000</td>\n",
       "    </tr>\n",
       "    <tr>\n",
       "      <th>sofas</th>\n",
       "      <td>2000</td>\n",
       "      <td>2000</td>\n",
       "    </tr>\n",
       "    <tr>\n",
       "      <th>tables</th>\n",
       "      <td>2000</td>\n",
       "      <td>2000</td>\n",
       "    </tr>\n",
       "  </tbody>\n",
       "</table>\n",
       "</div>"
      ],
      "text/plain": [
       "          path  label_onehot\n",
       "label                       \n",
       "beds      2000          2000\n",
       "chairs    2000          2000\n",
       "dressers  2000          2000\n",
       "sofas     2000          2000\n",
       "tables    2000          2000"
      ]
     },
     "execution_count": 34,
     "metadata": {},
     "output_type": "execute_result"
    }
   ],
   "source": [
    "df_test = functools.reduce(lambda df1, df2: df1.append(df2), list(map(lambda x: df[df.label == x].sample(n=TEST_CLASS_SIZE, random_state=0), ['beds', 'chairs', 'dressers', 'sofas', 'tables'])))\n",
    "df_test.groupby(['label']).count()"
   ]
  },
  {
   "cell_type": "code",
   "execution_count": 35,
   "metadata": {},
   "outputs": [
    {
     "data": {
      "text/html": [
       "<div>\n",
       "<style scoped>\n",
       "    .dataframe tbody tr th:only-of-type {\n",
       "        vertical-align: middle;\n",
       "    }\n",
       "\n",
       "    .dataframe tbody tr th {\n",
       "        vertical-align: top;\n",
       "    }\n",
       "\n",
       "    .dataframe thead th {\n",
       "        text-align: right;\n",
       "    }\n",
       "</style>\n",
       "<table border=\"1\" class=\"dataframe\">\n",
       "  <thead>\n",
       "    <tr style=\"text-align: right;\">\n",
       "      <th></th>\n",
       "      <th>path</th>\n",
       "      <th>label_onehot</th>\n",
       "    </tr>\n",
       "    <tr>\n",
       "      <th>label</th>\n",
       "      <th></th>\n",
       "      <th></th>\n",
       "    </tr>\n",
       "  </thead>\n",
       "  <tbody>\n",
       "    <tr>\n",
       "      <th>beds</th>\n",
       "      <td>4578</td>\n",
       "      <td>4578</td>\n",
       "    </tr>\n",
       "    <tr>\n",
       "      <th>chairs</th>\n",
       "      <td>20053</td>\n",
       "      <td>20053</td>\n",
       "    </tr>\n",
       "    <tr>\n",
       "      <th>dressers</th>\n",
       "      <td>5871</td>\n",
       "      <td>5871</td>\n",
       "    </tr>\n",
       "    <tr>\n",
       "      <th>sofas</th>\n",
       "      <td>2080</td>\n",
       "      <td>2080</td>\n",
       "    </tr>\n",
       "    <tr>\n",
       "      <th>tables</th>\n",
       "      <td>15100</td>\n",
       "      <td>15100</td>\n",
       "    </tr>\n",
       "  </tbody>\n",
       "</table>\n",
       "</div>"
      ],
      "text/plain": [
       "           path  label_onehot\n",
       "label                        \n",
       "beds       4578          4578\n",
       "chairs    20053         20053\n",
       "dressers   5871          5871\n",
       "sofas      2080          2080\n",
       "tables    15100         15100"
      ]
     },
     "execution_count": 35,
     "metadata": {},
     "output_type": "execute_result"
    }
   ],
   "source": [
    "df_train = df[~df.isin(df_test)]\n",
    "df_train.groupby('label').count()"
   ]
  },
  {
   "cell_type": "code",
   "execution_count": 36,
   "metadata": {},
   "outputs": [
    {
     "data": {
      "text/html": [
       "<div>\n",
       "<style scoped>\n",
       "    .dataframe tbody tr th:only-of-type {\n",
       "        vertical-align: middle;\n",
       "    }\n",
       "\n",
       "    .dataframe tbody tr th {\n",
       "        vertical-align: top;\n",
       "    }\n",
       "\n",
       "    .dataframe thead th {\n",
       "        text-align: right;\n",
       "    }\n",
       "</style>\n",
       "<table border=\"1\" class=\"dataframe\">\n",
       "  <thead>\n",
       "    <tr style=\"text-align: right;\">\n",
       "      <th></th>\n",
       "      <th>path</th>\n",
       "      <th>label_onehot</th>\n",
       "    </tr>\n",
       "    <tr>\n",
       "      <th>label</th>\n",
       "      <th></th>\n",
       "      <th></th>\n",
       "    </tr>\n",
       "  </thead>\n",
       "  <tbody>\n",
       "    <tr>\n",
       "      <th>beds</th>\n",
       "      <td>8000</td>\n",
       "      <td>8000</td>\n",
       "    </tr>\n",
       "    <tr>\n",
       "      <th>chairs</th>\n",
       "      <td>8000</td>\n",
       "      <td>8000</td>\n",
       "    </tr>\n",
       "    <tr>\n",
       "      <th>dressers</th>\n",
       "      <td>8000</td>\n",
       "      <td>8000</td>\n",
       "    </tr>\n",
       "    <tr>\n",
       "      <th>sofas</th>\n",
       "      <td>8000</td>\n",
       "      <td>8000</td>\n",
       "    </tr>\n",
       "    <tr>\n",
       "      <th>tables</th>\n",
       "      <td>8000</td>\n",
       "      <td>8000</td>\n",
       "    </tr>\n",
       "  </tbody>\n",
       "</table>\n",
       "</div>"
      ],
      "text/plain": [
       "          path  label_onehot\n",
       "label                       \n",
       "beds      8000          8000\n",
       "chairs    8000          8000\n",
       "dressers  8000          8000\n",
       "sofas     8000          8000\n",
       "tables    8000          8000"
      ]
     },
     "execution_count": 36,
     "metadata": {},
     "output_type": "execute_result"
    }
   ],
   "source": [
    "def balance_class_size(label):\n",
    "    df_len = len(df_train[df_train.label == label])\n",
    "    n = int(np.ceil(TRAIN_CLASS_SIZE/df_len))\n",
    "    df_dup = pd.concat([df_train[df_train.label == label]]*n)\n",
    "    return df_dup.sample(n=TRAIN_CLASS_SIZE)\n",
    "\n",
    "df_train = functools.reduce(lambda df1, df2: df1.append(df2), list(map(balance_class_size, ['beds', 'chairs', 'dressers', 'sofas', 'tables'])))\n",
    "df_train.groupby(['label']).count()"
   ]
  },
  {
   "cell_type": "markdown",
   "metadata": {},
   "source": [
    "# Mixup and import images"
   ]
  },
  {
   "cell_type": "code",
   "execution_count": 37,
   "metadata": {},
   "outputs": [
    {
     "name": "stdout",
     "output_type": "stream",
     "text": [
      "Label:  tf.Tensor([0.8860907  0.11390932 0.         0.         0.        ], shape=(5,), dtype=float32)\n"
     ]
    },
    {
     "data": {
      "image/png": "[encoded data removed]",
      "text/plain": [
       "<Figure size 432x288 with 1 Axes>"
      ]
     },
     "metadata": {
      "needs_background": "light"
     },
     "output_type": "display_data"
    }
   ],
   "source": [
    "def mixup(sample1, sample2):\n",
    "    image1, label1 = sample1\n",
    "    image2, label2 = sample2\n",
    "    \n",
    "    dist = tfp.distributions.Beta(0.2, 0.2)\n",
    "    l = dist.sample(1)\n",
    "\n",
    "    img = image1*(1-l) + image2*l\n",
    "    label = tf.cast(label1, tf.float32)*(1-l) + tf.cast(label2, tf.float32)*l\n",
    "    \n",
    "    return img, label\n",
    "\n",
    "ds_test = tf.data.Dataset.from_tensor_slices((df_test.path, np.stack(df_test.label_onehot)))\n",
    "ds_train = tf.data.Dataset.from_tensor_slices((df_train.path, np.stack(df_train.label_onehot)))\n",
    "\n",
    "def import_images(path, label):\n",
    "    img = tf.io.read_file(path)\n",
    "    img = tf.image.decode_jpeg(img, channels=3)\n",
    "    img = tf.image.convert_image_dtype(img, tf.float32)\n",
    "    img = tf.image.resize(img, [IMG_HEIGHT, IMG_WIDTH])\n",
    "    return img, tf.convert_to_tensor(label)\n",
    "\n",
    "ds_test = ds_test.map(import_images)\n",
    "ds_train_1 = ds_train.shuffle(CLASS_COUNT * TRAIN_CLASS_SIZE).map(import_images)\n",
    "ds_train_2 = ds_train.shuffle(CLASS_COUNT * TRAIN_CLASS_SIZE).map(import_images)\n",
    "ds_train = tf.data.Dataset.zip((ds_train_1, ds_train_2)).map(mixup)\n",
    "\n",
    "for img, label in ds_train.take(1):\n",
    "    print('Label: ', label)\n",
    "    plt.imshow(img.numpy())\n",
    "    plt.axis('off')"
   ]
  },
  {
   "cell_type": "code",
   "execution_count": 38,
   "metadata": {},
   "outputs": [
    {
     "name": "stdout",
     "output_type": "stream",
     "text": [
      "Image shape:  (224, 224, 3)\n",
      "Label:  [0.         0.9174063  0.         0.08259368 0.        ]\n"
     ]
    },
    {
     "data": {
      "image/png": "[encoded data removed]",
      "text/plain": [
       "<Figure size 432x288 with 1 Axes>"
      ]
     },
     "metadata": {
      "needs_background": "light"
     },
     "output_type": "display_data"
    }
   ],
   "source": [
    "def augment(img, label):\n",
    "    img = tf.image.random_flip_left_right(img)\n",
    "    img = tf.image.random_brightness(img, 0.2)\n",
    "    return img,label\n",
    "\n",
    "ds_train = ds_train.map(augment).batch(batch_size).prefetch(AUTOTUNE)\n",
    "ds_test = ds_test.batch(batch_size).prefetch(AUTOTUNE)\n",
    "\n",
    "for batch in ds_train.take(1):\n",
    "    img = batch[0][0]\n",
    "    label = batch[1][0]\n",
    "    print(\"Image shape: \", img.numpy().shape)\n",
    "    print(\"Label: \", label.numpy())\n",
    "    plt.imshow(img.numpy())\n",
    "    plt.axis('off')"
   ]
  },
  {
   "cell_type": "markdown",
   "metadata": {},
   "source": [
    "# Create model"
   ]
  },
  {
   "cell_type": "code",
   "execution_count": 39,
   "metadata": {},
   "outputs": [
    {
     "name": "stdout",
     "output_type": "stream",
     "text": [
      "Model: \"sequential\"\n",
      "_________________________________________________________________\n",
      "Layer (type)                 Output Shape              Param #   \n",
      "=================================================================\n",
      "keras_layer (KerasLayer)     multiple                  23500352  \n",
      "_________________________________________________________________\n",
      "dense (Dense)                multiple                  10245     \n",
      "=================================================================\n",
      "Total params: 23,510,597\n",
      "Trainable params: 10,245\n",
      "Non-trainable params: 23,500,352\n",
      "_________________________________________________________________\n"
     ]
    }
   ],
   "source": [
    "hub_url = \"https://tfhub.dev/google/bit/m-r50x1/1\"\n",
    "feature_extractor_layer = hub.KerasLayer(hub_url, trainable=False)\n",
    "\n",
    "model = tf.keras.Sequential([\n",
    "    feature_extractor_layer, \n",
    "    tf.keras.layers.Dense(CLASS_COUNT)\n",
    "])\n",
    "model.build([None, IMG_HEIGHT, IMG_WIDTH, 3]) \n",
    "\n",
    "model.summary()"
   ]
  },
  {
   "cell_type": "code",
   "execution_count": 72,
   "metadata": {},
   "outputs": [],
   "source": [
    "model.compile(\n",
    "  optimizer=tf.keras.optimizers.SGD(learning_rate=0.003, momentum=0.9),\n",
    "  loss=tf.keras.losses.CategoricalCrossentropy(from_logits=True),\n",
    "  metrics=['acc'])"
   ]
  },
  {
   "cell_type": "code",
   "execution_count": 57,
   "metadata": {},
   "outputs": [
    {
     "name": "stdout",
     "output_type": "stream",
     "text": [
      "Epoch 1/5\n",
      "625/625 [==============================] - ETA: 0s - loss: 1.1188 - acc: 0.8643\n",
      "Epoch 00001: saving model to ./weights\n",
      "625/625 [==============================] - 716s 1s/step - loss: 1.1188 - acc: 0.8643 - val_loss: 0.4282 - val_acc: 0.8974\n",
      "Epoch 2/5\n",
      "625/625 [==============================] - ETA: 0s - loss: 0.8057 - acc: 0.8814\n",
      "Epoch 00002: saving model to ./weights\n",
      "625/625 [==============================] - 288s 461ms/step - loss: 0.8057 - acc: 0.8814 - val_loss: 0.1637 - val_acc: 0.9526\n",
      "Epoch 3/5\n",
      "625/625 [==============================] - ETA: 0s - loss: 0.7416 - acc: 0.8842\n",
      "Epoch 00003: saving model to ./weights\n",
      "625/625 [==============================] - 289s 462ms/step - loss: 0.7416 - acc: 0.8842 - val_loss: 0.1762 - val_acc: 0.9539\n",
      "Epoch 4/5\n",
      "625/625 [==============================] - ETA: 0s - loss: 0.7551 - acc: 0.8844\n",
      "Epoch 00004: saving model to ./weights\n",
      "625/625 [==============================] - 289s 462ms/step - loss: 0.7551 - acc: 0.8844 - val_loss: 0.2677 - val_acc: 0.9274\n",
      "Epoch 5/5\n",
      "625/625 [==============================] - ETA: 0s - loss: 0.7793 - acc: 0.8844\n",
      "Epoch 00005: saving model to ./weights\n",
      "625/625 [==============================] - 288s 460ms/step - loss: 0.7793 - acc: 0.8844 - val_loss: 0.2719 - val_acc: 0.9288\n"
     ]
    }
   ],
   "source": [
    "cp_callback = tf.keras.callbacks.ModelCheckpoint(filepath='./furniture_type_weights/weights',\n",
    "                                                 save_weights_only=True,\n",
    "                                                 verbose=1)\n",
    "\n",
    "history = model.fit(\n",
    "    ds_train,\n",
    "    validation_data=ds_test,\n",
    "    epochs=5,\n",
    "    callbacks=[cp_callback]\n",
    ")"
   ]
  },
  {
   "cell_type": "code",
   "execution_count": 76,
   "metadata": {},
   "outputs": [],
   "source": [
    "model.load_weights('./furniture_type_weights/weights')\n",
    "logits = model.predict(ds_test)"
   ]
  },
  {
   "cell_type": "code",
   "execution_count": 155,
   "metadata": {},
   "outputs": [
    {
     "data": {
      "text/plain": [
       "1290     0\n",
       "2262     0\n",
       "3260     0\n",
       "2260     0\n",
       "1662     0\n",
       "        ..\n",
       "46224    4\n",
       "51998    4\n",
       "45852    4\n",
       "47308    4\n",
       "57523    4\n",
       "Name: label_num, Length: 10000, dtype: int64"
      ]
     },
     "execution_count": 155,
     "metadata": {},
     "output_type": "execute_result"
    }
   ],
   "source": [
    "labels = list(labels)\n",
    "df_test['label_num'] = df.label.apply(lambda x: labels.index(x))\n",
    "df_test['label_num']"
   ]
  },
  {
   "cell_type": "code",
   "execution_count": 156,
   "metadata": {},
   "outputs": [
    {
     "data": {
      "text/plain": [
       "Text(33.0, 0.5, 'True')"
      ]
     },
     "execution_count": 156,
     "metadata": {},
     "output_type": "execute_result"
    },
    {
     "data": {
      "image/png": "[encoded data removed]",
      "text/plain": [
       "<Figure size 432x288 with 2 Axes>"
      ]
     },
     "metadata": {
      "needs_background": "light"
     },
     "output_type": "display_data"
    }
   ],
   "source": [
    "probs = tf.nn.softmax(logits)\n",
    "predictions = [np.argmax(x) for x in probs.numpy()]\n",
    "\n",
    "confusion_matrix = tf.math.confusion_matrix(df_test['label_num'], predictions)\n",
    "sns.heatmap(confusion_matrix.numpy())\n",
    "plt.xlabel(\"Predicted\")\n",
    "plt.ylabel(\"True\")"
   ]
  }
 ],
 "metadata": {
  "environment": {
   "name": "tf2-2-2-gpu.2-2.m49",
   "type": "gcloud",
   "uri": "gcr.io/deeplearning-platform-release/tf2-2-2-gpu.2-2:m49"
  },
  "kernelspec": {
   "display_name": "Python 3",
   "language": "python",
   "name": "python3"
  },
  "language_info": {
   "codemirror_mode": {
    "name": "ipython",
    "version": 3
   },
   "file_extension": ".py",
   "mimetype": "text/x-python",
   "name": "python",
   "nbconvert_exporter": "python",
   "pygments_lexer": "ipython3",
   "version": "3.7.6"
  }
 },
 "nbformat": 4,
 "nbformat_minor": 4
}
